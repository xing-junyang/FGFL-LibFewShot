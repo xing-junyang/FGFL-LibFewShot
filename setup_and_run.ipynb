{
 "cells": [
  {
   "metadata": {},
   "cell_type": "markdown",
   "source": [
    "# Setup and Run FGFL-LibFewShot\n",
    "\n",
    "This notebook will guide you through the setup and running of LibFewShot. The file is used to develop the \n",
    "`FGFL-LibFewShot` library and test on the `miniImageNet` dataset. It will run on `Colab` with a `T4 GPU`.\n",
    "\n",
    "## Setup\n",
    "\n",
    "We will use Colab to run the code. The following steps will guide you through the setup process.\n",
    "\n",
    "### install the required packages "
   ],
   "id": "a894dcd2c65e36a7"
  },
  {
   "cell_type": "code",
   "execution_count": null,
   "id": "initial_id",
   "metadata": {
    "collapsed": true
   },
   "outputs": [],
   "source": [
    "!conda create -n libfewshot python=3.7\n",
    "!conda activate libfewshot\n",
    "!pip install -r requirements.txt"
   ]
  },
  {
   "metadata": {},
   "cell_type": "markdown",
   "source": [
    "### Unzip the dataset\n",
    "\n",
    "Unzip the dataset in the `data` folder. The dataset is `miniImageNet--ravi.tar`, and it will be unzipped in the `data` folder."
   ],
   "id": "3e066fd89ee84e4a"
  },
  {
   "metadata": {},
   "cell_type": "code",
   "outputs": [],
   "execution_count": null,
   "source": "!tar -xvf data/miniImageNet--ravi.tar -C data/",
   "id": "5292e74e2b031c43"
  },
  {
   "metadata": {},
   "cell_type": "markdown",
   "source": [
    "### Run\n",
    "\n",
    "You need to change runtime type to `T4 GPU` to use `CUDA` and run the code."
   ],
   "id": "93a0007f919a4e67"
  },
  {
   "metadata": {},
   "cell_type": "code",
   "outputs": [],
   "execution_count": null,
   "source": "!python run_trainer.py",
   "id": "caa3d24ef76a5b0c"
  }
 ],
 "metadata": {
  "kernelspec": {
   "display_name": "Python 3",
   "language": "python",
   "name": "python3"
  },
  "language_info": {
   "codemirror_mode": {
    "name": "ipython",
    "version": 2
   },
   "file_extension": ".py",
   "mimetype": "text/x-python",
   "name": "python",
   "nbconvert_exporter": "python",
   "pygments_lexer": "ipython2",
   "version": "2.7.6"
  }
 },
 "nbformat": 4,
 "nbformat_minor": 5
}
