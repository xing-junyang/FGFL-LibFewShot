{
  "cells": [
    {
      "cell_type": "markdown",
      "metadata": {
        "id": "view-in-github",
        "colab_type": "text"
      },
      "source": [
        "<a href=\"https://colab.research.google.com/github/xing-junyang/FGFL-LibFewShot/blob/main/setup_and_run.ipynb\" target=\"_parent\"><img src=\"https://colab.research.google.com/assets/colab-badge.svg\" alt=\"Open In Colab\"/></a>"
      ]
    },
    {
      "metadata": {
        "id": "a894dcd2c65e36a7"
      },
      "cell_type": "markdown",
      "source": [
        "# Setup and Run FGFL-LibFewShot\n",
        "\n",
        "This notebook will guide you through the setup and running of LibFewShot. The file is used to develop the\n",
        "`FGFL-LibFewShot` library and test on the `miniImageNet` dataset. It will run on `Colab` with a `T4 GPU`.\n",
        "\n",
        "## Setup\n",
        "\n",
        "We will use Colab to run the code. The following steps will guide you through the setup process."
      ],
      "id": "a894dcd2c65e36a7"
    },
    {
      "cell_type": "markdown",
      "source": [
        "### Clone the Repo"
      ],
      "metadata": {
        "id": "jWYcM5t479nt"
      },
      "id": "jWYcM5t479nt"
    },
    {
      "cell_type": "code",
      "source": [
        "!cd ~\n",
        "!git clone https://github.com/xing-junyang/FGFL-LibFewShot.git"
      ],
      "metadata": {
        "id": "mo945Qab8Aet"
      },
      "id": "mo945Qab8Aet",
      "execution_count": null,
      "outputs": []
    },
    {
      "cell_type": "markdown",
      "source": [
        "### install the required packages"
      ],
      "metadata": {
        "id": "djQsjFog78E_"
      },
      "id": "djQsjFog78E_"
    },
    {
      "cell_type": "code",
      "source": [
        "!pip install -q condacolab\n",
        "import condacolab\n",
        "condacolab.install()"
      ],
      "metadata": {
        "id": "MhBIpgpi_732"
      },
      "id": "MhBIpgpi_732",
      "execution_count": null,
      "outputs": []
    },
    {
      "cell_type": "code",
      "execution_count": null,
      "id": "initial_id",
      "metadata": {
        "collapsed": true,
        "id": "initial_id"
      },
      "outputs": [],
      "source": [
        "%cd FGFL-LibFewShot\n",
        "%ls\n",
        "!conda create -n libfewshot python=3.7\n",
        "!conda activate libfewshot"
      ]
    },
    {
      "cell_type": "code",
      "source": [
        "%cd FGFL-LibFewShot\n",
        "%pip install -r requirements.txt"
      ],
      "metadata": {
        "id": "U6y_EX73AzGK"
      },
      "id": "U6y_EX73AzGK",
      "execution_count": null,
      "outputs": []
    },
    {
      "metadata": {
        "id": "3e066fd89ee84e4a"
      },
      "cell_type": "markdown",
      "source": [
        "### Unzip the dataset\n",
        "\n",
        "Unzip the dataset in the `data` folder. **You have to upload the dataset on your own.** The dataset should be located in `/data/miniImageNet--ravi.tar`. After uploaded, run the code cell and it will be unzipped in the `data` folder."
      ],
      "id": "3e066fd89ee84e4a"
    },
    {
      "metadata": {
        "id": "5292e74e2b031c43"
      },
      "cell_type": "code",
      "outputs": [],
      "execution_count": null,
      "source": [
        "%pip install gdown\n",
        "%mkdir data\n",
        "%cd data\n",
        "!gdown https://drive.google.com/uc?id=1HyOIVY2FRB2y7Al2zOLfS-fJV1jVvT0e\n",
        "!tar -xvf miniImageNet--ravi.tar -C ./"
      ],
      "id": "5292e74e2b031c43"
    },
    {
      "metadata": {
        "id": "93a0007f919a4e67"
      },
      "cell_type": "markdown",
      "source": [
        "### Run\n",
        "\n",
        "You need to change runtime type to `T4 GPU` to use `CUDA` and run the code."
      ],
      "id": "93a0007f919a4e67"
    },
    {
      "metadata": {
        "id": "caa3d24ef76a5b0c"
      },
      "cell_type": "code",
      "outputs": [],
      "execution_count": null,
      "source": [
        "!python run_trainer.py"
      ],
      "id": "caa3d24ef76a5b0c"
    }
  ],
  "metadata": {
    "kernelspec": {
      "display_name": "Python 3",
      "name": "python3"
    },
    "language_info": {
      "codemirror_mode": {
        "name": "ipython",
        "version": 2
      },
      "file_extension": ".py",
      "mimetype": "text/x-python",
      "name": "python",
      "nbconvert_exporter": "python",
      "pygments_lexer": "ipython2",
      "version": "2.7.6"
    },
    "colab": {
      "provenance": [],
      "gpuType": "T4",
      "include_colab_link": true
    },
    "accelerator": "GPU"
  },
  "nbformat": 4,
  "nbformat_minor": 5
}